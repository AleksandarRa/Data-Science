{
 "cells": [
  {
   "cell_type": "code",
   "execution_count": null,
   "metadata": {},
   "outputs": [],
   "source": [
    "from sklearn.neighbors import NearestCentroid\n",
    "from sklearn.metrics import accuracy_score\n",
    "from sklearn.model_selection import train_test_split\n",
    "import pandas as pd\n",
    "import matplotlib.pyplot as plt\n",
    "import plotly.express as px\n",
    "import seaborn as sns\n",
    "import numpy as np\n",
    "from sklearn.datasets import load_wine\n",
    "from pandas.plotting import parallel_coordinates, scatter_matrix\n",
    "from sklearn.preprocessing import StandardScaler"
   ]
  },
  {
   "cell_type": "code",
   "execution_count": null,
   "metadata": {},
   "outputs": [],
   "source": [
    "x, y = load_wine(as_frame=True, return_X_y = True)  #split into features X and labels y\n",
    "df_labeled = x.copy()"
   ]
  },
  {
   "cell_type": "code",
   "execution_count": null,
   "metadata": {},
   "outputs": [],
   "source": [
    "#seperate test and training data\n",
    "#Change the default setting to a ratio of 7:3 for training and test set.\n",
    "#random_state = makes it possible to save a specific split alg. --> you can run the code on the next day and get the same result\n",
    "x_train, x_test, y_train, y_test = train_test_split(x ,y, train_size=0.7, random_state=42)"
   ]
  },
  {
   "cell_type": "code",
   "execution_count": null,
   "metadata": {},
   "outputs": [],
   "source": [
    "#create model\n",
    "mindist = NearestCentroid()\n",
    "mindist.fit(x_train, y_train)\n",
    "\n",
    "y_hat = mindist.predict(x_test)"
   ]
  },
  {
   "cell_type": "code",
   "execution_count": null,
   "metadata": {},
   "outputs": [],
   "source": [
    "mindist.score(x_test,y_test)"
   ]
  },
  {
   "cell_type": "code",
   "execution_count": null,
   "metadata": {},
   "outputs": [],
   "source": [
    "#Take a look into the sklearn documentation of the 📝 train_test_split method to find out the default split\n",
    "#ratio, i.e. how much data is used for the training and test set, respectively.\n",
    "# * default split ratio = 75 : 25\n",
    "# * 75% train, 25% test"
   ]
  },
  {
   "cell_type": "code",
   "execution_count": null,
   "metadata": {},
   "outputs": [],
   "source": [
    "sns.heatmap(df_labeled.corr())\n",
    "# --> flava and phonois have a high correlation"
   ]
  },
  {
   "cell_type": "code",
   "execution_count": null,
   "metadata": {},
   "outputs": [],
   "source": [
    "x_dropedFeature = df_labeled.copy()\n",
    "x_dropedFeature "
   ]
  },
  {
   "cell_type": "code",
   "execution_count": null,
   "metadata": {},
   "outputs": [],
   "source": [
    "#Feature Extraction\n",
    "#drop highly correlated features\n",
    "x_dropedFeature = df_labeled.copy() \n",
    "x_dropedFeature.drop(['total_phenols', 'flavanoids', 'od280/od315_of_diluted_wines', 'proline', 'alcohol'], axis=1, inplace=True)\n",
    "x_train, x_test, y_train, y_test = train_test_split(x_dropedFeature ,y, train_size=0.7, random_state=42)\n",
    "#create model\n",
    "mindist = NearestCentroid()\n",
    "mindist.fit(x_train, y_train)\n",
    "mindist.score(x_test,y_test)"
   ]
  },
  {
   "cell_type": "code",
   "execution_count": null,
   "metadata": {},
   "outputs": [],
   "source": [
    "#how to improve the score ? --> scale data\n",
    "\n",
    "#scale train data\n",
    "scaler = StandardScaler(copy=True)\n",
    "xTrain_scaled = scaler.fit_transform(x_train, y_train)\n",
    "\n",
    "#scale test data with the scaler\n",
    "xTest_scaled = scaler.transform(x_test)\n",
    "\n",
    "#create model\n",
    "mindist = NearestCentroid()\n",
    "mindist.fit(xTrain_scaled, y_train)\n",
    "\n",
    "mindist.score(xTest_scaled,y_test)\n",
    "#Does the accuracy change and if yes, why?\n",
    "# * yes it changes and gets better, because ...\n"
   ]
  }
 ],
 "metadata": {
  "kernelspec": {
   "display_name": "Python 3.8.10 64-bit",
   "language": "python",
   "name": "python3"
  },
  "language_info": {
   "codemirror_mode": {
    "name": "ipython",
    "version": 3
   },
   "file_extension": ".py",
   "mimetype": "text/x-python",
   "name": "python",
   "nbconvert_exporter": "python",
   "pygments_lexer": "ipython3",
   "version": "3.8.10"
  },
  "orig_nbformat": 4,
  "vscode": {
   "interpreter": {
    "hash": "31f2aee4e71d21fbe5cf8b01ff0e069b9275f58929596ceb00d14d90e3e16cd6"
   }
  }
 },
 "nbformat": 4,
 "nbformat_minor": 2
}
