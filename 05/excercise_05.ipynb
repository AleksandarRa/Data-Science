{
 "cells": [
  {
   "cell_type": "markdown",
   "metadata": {},
   "source": [
    "# Questions "
   ]
  },
  {
   "cell_type": "markdown",
   "metadata": {},
   "source": [
    "## How many hidden layers are used?\n",
    "##### 1"
   ]
  },
  {
   "cell_type": "markdown",
   "metadata": {},
   "source": [
    "## Which activation function should be used in the hidden layer(s)?\n",
    "#### none linear e.g. ReLU, sigmuid  "
   ]
  },
  {
   "cell_type": "markdown",
   "metadata": {},
   "source": [
    "## Which activation function should be used in the output layer?\n",
    "#### any or nothing if the softmay layer is used afterwards"
   ]
  },
  {
   "cell_type": "markdown",
   "metadata": {},
   "source": [
    "## Which loss function is used?\n",
    "#### cross-entropy"
   ]
  },
  {
   "cell_type": "markdown",
   "metadata": {},
   "source": [
    "# First Experimentation"
   ]
  },
  {
   "cell_type": "code",
   "execution_count": null,
   "metadata": {},
   "outputs": [],
   "source": [
    "from sklearn.datasets import load_breast_cancer\n",
    "import numpy as np\n",
    "x,y = load_breast_cancer(return_X_y = True, as_frame = True)\n",
    "x.head()"
   ]
  },
  {
   "cell_type": "code",
   "execution_count": null,
   "metadata": {},
   "outputs": [],
   "source": [
    "from sklearn.preprocessing import StandardScaler\n",
    "from sklearn.model_selection import train_test_split\n",
    "from sklearn.neural_network import MLPClassifier\n",
    "from sklearn.metrics import classification_report\n",
    "from sklearn.metrics import plot_confusion_matrix\n",
    "\n",
    "x_train, x_test, y_train, y_test = train_test_split(x ,y, train_size=0.9, random_state=42)\n",
    "\n",
    "scaler = StandardScaler(copy=True)\n",
    "xTrain_scaled = scaler.fit_transform(x_train, y_train)\n",
    "xTest_scaled = scaler.transform(x_test)\n",
    "\n",
    "clf = MLPClassifier(random_state=42, hidden_layer_sizes=(64),learning_rate_init=0.0001, batch_size=100, activation='relu')\n",
    "#clf.out_activation_ can not be overwritten, would change after fit again to logistic\n",
    "#clf.out_activation_='softmax'\n",
    "clf.fit(x_train, y_train)\n",
    "y_pred = clf.predict(x_test)\n",
    "\n",
    "print(clf.score(x_test,y_test))\n",
    "#print(clf.out_activation_)\n",
    "#print(clf.n_outputs_)\n",
    "print(classification_report(y_test, y_pred))\n",
    "plot_confusion_matrix(clf, x_test, y_test, cmap ='Blues')"
   ]
  },
  {
   "cell_type": "markdown",
   "metadata": {},
   "source": [
    "#### Train the MLPClassifier with SGD optimizer and the default L2 regularization. No momentum (needs to be turned off)."
   ]
  },
  {
   "cell_type": "code",
   "execution_count": null,
   "metadata": {},
   "outputs": [],
   "source": [
    "import matplotlib.pyplot as plt\n",
    "import seaborn as sns\n",
    "import pandas as pd\n",
    "\n",
    "\n",
    "def plot_learning_curve(df_loss_curve, title='Loss curve - Breast Cancer Data'):\n",
    "    sns.lineplot(data=df_loss_curve, dashes=False)\n",
    "    plt.title(title)\n",
    "    plt.show()\n",
    "\n",
    "max_iter = 200\n",
    "x_train, x_test, y_train, y_test = train_test_split(x ,y, train_size=0.9, random_state=42)\n",
    "\n",
    "scaler = StandardScaler(copy=True)\n",
    "xTrain_scaled = scaler.fit_transform(x_train, y_train)\n",
    "xTest_scaled = scaler.transform(x_test)\n",
    "\n",
    "clf = MLPClassifier(random_state=42, max_iter= max_iter, hidden_layer_sizes=[64],learning_rate_init=0.01, batch_size=100, activation='relu', solver = \"sgd\")\n",
    "clf.fit(x_train, y_train)\n",
    "y_pred = clf.predict(x_test)\n",
    "\n",
    "print(clf.score(x_test,y_test))\n",
    "print(classification_report(y_test, y_pred))\n",
    "#plot_confusion_matrix(clf, x_test, y_test, cmap ='Blues')\n",
    "\n",
    "loss_curve = clf.loss_curve_ + [np.NaN] * (max_iter - len(clf.loss_curve_))\n",
    "loss_curve_df = pd.DataFrame(loss_curve, columns=['SGD Baseline'])\n",
    "plot_learning_curve(loss_curve_df)\n",
    "\n",
    "\n"
   ]
  },
  {
   "cell_type": "code",
   "execution_count": null,
   "metadata": {},
   "outputs": [],
   "source": [
    "clf.early_stopping = True"
   ]
  }
 ],
 "metadata": {
  "kernelspec": {
   "display_name": "Python 3.8.10 64-bit",
   "language": "python",
   "name": "python3"
  },
  "language_info": {
   "codemirror_mode": {
    "name": "ipython",
    "version": 3
   },
   "file_extension": ".py",
   "mimetype": "text/x-python",
   "name": "python",
   "nbconvert_exporter": "python",
   "pygments_lexer": "ipython3",
   "version": "3.8.10 (default, Nov 14 2022, 12:59:47) \n[GCC 9.4.0]"
  },
  "orig_nbformat": 4,
  "vscode": {
   "interpreter": {
    "hash": "31f2aee4e71d21fbe5cf8b01ff0e069b9275f58929596ceb00d14d90e3e16cd6"
   }
  }
 },
 "nbformat": 4,
 "nbformat_minor": 2
}
